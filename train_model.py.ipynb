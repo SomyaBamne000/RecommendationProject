{
 "cells": [
  {
   "cell_type": "code",
   "execution_count": 1,
   "id": "dca5df38",
   "metadata": {},
   "outputs": [
    {
     "name": "stdout",
     "output_type": "stream",
     "text": [
      "Index(['N', 'P', 'K', 'temperature', 'humidity', 'ph', 'rainfall', 'label'], dtype='object')\n",
      "Model training completed.\n"
     ]
    }
   ],
   "source": [
    "import numpy as np\n",
    "import pandas as pd\n",
    "from sklearn.model_selection import train_test_split\n",
    "from sklearn.preprocessing import MinMaxScaler, StandardScaler\n",
    "from sklearn.ensemble import RandomForestClassifier\n",
    "import joblib\n",
    "\n",
    "# Load the dataset\n",
    "crop_data = pd.read_csv(\"Crop_recommendation.csv\")\n",
    "\n",
    "# Print the column names to check for the correct target variable name\n",
    "print(crop_data.columns)\n",
    "\n",
    "# Assuming 'label' is your target variable and the rest are features\n",
    "X = crop_data.drop(['label'], axis=1)  # Remove 'crop_num' if it's not in the dataset\n",
    "y = crop_data['label']\n",
    "\n",
    "# Split the data into training and testing sets\n",
    "X_train, X_test, y_train, y_test = train_test_split(X, y, test_size=0.2, random_state=42)\n",
    "\n",
    "# Initialize scalers\n",
    "ms = MinMaxScaler()\n",
    "sc = StandardScaler()\n",
    "\n",
    "# Scale the features\n",
    "X_train_scaled = ms.fit_transform(X_train)\n",
    "X_test_scaled = ms.transform(X_test)\n",
    "\n",
    "X_train_standardized = sc.fit_transform(X_train_scaled)\n",
    "X_test_standardized = sc.transform(X_test_scaled)\n",
    "\n",
    "# Initialize and train the model\n",
    "rfc = RandomForestClassifier()\n",
    "rfc.fit(X_train_standardized, y_train)\n",
    "\n",
    "# Save the trained model and scalers\n",
    "joblib.dump(rfc, 'rfc_model.joblib')\n",
    "joblib.dump(ms, 'min_max_scaler.joblib')\n",
    "joblib.dump(sc, 'standard_scaler.joblib')\n",
    "\n",
    "print(\"Model training completed.\")\n"
   ]
  },
  {
   "cell_type": "code",
   "execution_count": null,
   "id": "7d245d4f",
   "metadata": {},
   "outputs": [],
   "source": []
  }
 ],
 "metadata": {
  "kernelspec": {
   "display_name": "Python 3 (ipykernel)",
   "language": "python",
   "name": "python3"
  },
  "language_info": {
   "codemirror_mode": {
    "name": "ipython",
    "version": 3
   },
   "file_extension": ".py",
   "mimetype": "text/x-python",
   "name": "python",
   "nbconvert_exporter": "python",
   "pygments_lexer": "ipython3",
   "version": "3.10.9"
  }
 },
 "nbformat": 4,
 "nbformat_minor": 5
}

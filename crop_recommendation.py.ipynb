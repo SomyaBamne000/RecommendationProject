{
 "cells": [
  {
   "cell_type": "code",
   "execution_count": 7,
   "id": "e4727d16",
   "metadata": {
    "scrolled": true
   },
   "outputs": [
    {
     "name": "stdout",
     "output_type": "stream",
     "text": [
      "Enter nitrogen content: 10\n",
      "Enter phosphorous content: 15\n",
      "Enter potassium content: 12\n",
      "Enter temperature: 20\n",
      "Enter humidity: 2\n",
      "Enter pH level: 50\n",
      "Enter rainfall:80\n",
      "Prediction from the model: 5.0\n",
      "Recommended crop: Oats\n"
     ]
    },
    {
     "name": "stderr",
     "output_type": "stream",
     "text": [
      "C:\\ProgramData\\anaconda3\\lib\\site-packages\\sklearn\\base.py:420: UserWarning: X does not have valid feature names, but MinMaxScaler was fitted with feature names\n",
      "  warnings.warn(\n"
     ]
    }
   ],
   "source": [
    "import numpy as np\n",
    "import joblib\n",
    "\n",
    "# Assuming you have a dictionary mapping crop labels to numerical values\n",
    "crop_dict = {1: 'Wheat', 2: 'Rice', 3: 'Maize', 4: 'Barley', 5: 'Oats'}\n",
    "\n",
    "# Placeholder function for crop recommendation\n",
    "def recommendation(N, P, k, temperature, humidity, ph, rainfall):\n",
    "    # This is a simple example, replace with your actual recommendation logic\n",
    "    # You might use a machine learning model, rules engine, or other methods here\n",
    "\n",
    "    # Example: Sum of input features as a simple recommendation\n",
    "    sum_features = N + P + k + temperature + humidity + ph + rainfall\n",
    "\n",
    "    # Replace this with your actual crop prediction logic\n",
    "    predicted_crop = sum_features % len(crop_dict) + 1\n",
    "\n",
    "    return predicted_crop\n",
    "\n",
    "# Function to run the recommendation system\n",
    "def run_recommendation():\n",
    "    # User input (replace with actual user input logic if needed)\n",
    "    N = float(input(\"Enter nitrogen content: \"))\n",
    "    P = float(input(\"Enter phosphorous content: \"))\n",
    "    k = float(input(\"Enter potassium content: \"))\n",
    "    temperature = float(input(\"Enter temperature: \"))\n",
    "    humidity = float(input(\"Enter humidity: \"))\n",
    "    ph = float(input(\"Enter pH level: \"))\n",
    "    rainfall = float(input(\"Enter rainfall:\"))\n",
    "\n",
    "    # Load the trained model and scalers\n",
    "    rfc = joblib.load('rfc_model.joblib')\n",
    "    ms = joblib.load('min_max_scaler.joblib')\n",
    "    sc = joblib.load('standard_scaler.joblib')\n",
    "\n",
    "    # Prepare features for prediction\n",
    "    features = np.array([[N, P, k, temperature, humidity, ph, rainfall]])\n",
    "\n",
    "    # Apply scaling using the loaded scalers\n",
    "    transformed_features = ms.transform(features)\n",
    "    transformed_features = sc.transform(transformed_features)\n",
    "\n",
    "    # Make crop recommendation\n",
    "    predict = recommendation(N, P, k, temperature, humidity, ph, rainfall)\n",
    "\n",
    "    # Display the recommended crop\n",
    "    print(\"Prediction from the model:\", predict)\n",
    "\n",
    "    # Check if the predicted crop is close enough to any key in crop_dict\n",
    "    closest_crop_key = min(crop_dict, key=lambda x: abs(x - predict))\n",
    "\n",
    "    if abs(float(closest_crop_key) - float(predict)) < 0.5:  # Adjust the threshold as needed\n",
    "        crop = crop_dict[closest_crop_key]\n",
    "        print(\"Recommended crop: {}\".format(crop))\n",
    "    else:\n",
    "        print(\"Sorry, we are not able to recommend a proper crop for this environment.\")\n",
    "\n",
    "if __name__ == \"__main__\":\n",
    "    run_recommendation()\n"
   ]
  },
  {
   "cell_type": "code",
   "execution_count": null,
   "id": "873960b6",
   "metadata": {},
   "outputs": [],
   "source": []
  }
 ],
 "metadata": {
  "kernelspec": {
   "display_name": "Python 3 (ipykernel)",
   "language": "python",
   "name": "python3"
  },
  "language_info": {
   "codemirror_mode": {
    "name": "ipython",
    "version": 3
   },
   "file_extension": ".py",
   "mimetype": "text/x-python",
   "name": "python",
   "nbconvert_exporter": "python",
   "pygments_lexer": "ipython3",
   "version": "3.10.9"
  }
 },
 "nbformat": 4,
 "nbformat_minor": 5
}
